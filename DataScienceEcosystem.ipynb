{
 "cells": [
  {
   "cell_type": "markdown",
   "id": "5e3fd81f-be6d-4a47-82d4-6abe019680db",
   "metadata": {},
   "source": [
    "# Data Science Tools and Ecosystem"
   ]
  },
  {
   "cell_type": "markdown",
   "id": "720b8b8b-e5f0-4bd9-a5c0-92c2d4d76385",
   "metadata": {},
   "source": [
    "In this notebook, Data Science Tools and Ecosystem are summarized."
   ]
  },
  {
   "cell_type": "markdown",
   "id": "818df300-1f13-49ed-8146-f96d63c933fe",
   "metadata": {},
   "source": [
    "Some of the popular languages that Data Scientists use are:\n",
    "\n",
    "    1. Python\n",
    "    2. R\n",
    "    3. SQL\n",
    "    4. Scala\n",
    "    5. Java"
   ]
  },
  {
   "cell_type": "markdown",
   "id": "10774e3f-6701-48e7-a3da-36ce36a3239c",
   "metadata": {},
   "source": [
    "Some of the commonly used libraries used by Data Scientists include:\n",
    "    \n",
    "    1. Pandas (for cleaning and analyzing data)\n",
    "    2. Matplotlib (for data visualization)\n",
    "    3. Scikit (for machine learning)\n",
    "    4. Apache Spark (for cluster computing needed to process large data sets)"
   ]
  },
  {
   "cell_type": "markdown",
   "id": "6eeeead3-ecac-492e-a8da-549e25c7f55d",
   "metadata": {},
   "source": [
    "| Data Science Tools |\n",
    "| ---- |\n",
    "| Jupyter Notebooks |\n",
    "| RStudio |\n",
    "| Apache Spark |\n"
   ]
  },
  {
   "cell_type": "markdown",
   "id": "11fe574c-a52f-4c8c-b62e-e86fd1245957",
   "metadata": {},
   "source": [
    "### Below are a few examples of evaluating arithmetic expressions in Python"
   ]
  },
  {
   "cell_type": "code",
   "execution_count": 2,
   "id": "6dcd956a-10c1-4d07-bdd5-0c8f5f9d2255",
   "metadata": {},
   "outputs": [
    {
     "data": {
      "text/plain": [
       "17"
      ]
     },
     "execution_count": 2,
     "metadata": {},
     "output_type": "execute_result"
    }
   ],
   "source": [
    "#This is a simple arithmetic expression to multiply then add integers\n",
    "\n",
    "(3*4)+5"
   ]
  },
  {
   "cell_type": "code",
   "execution_count": 3,
   "id": "ce69062e-5acc-46c4-9950-5372756e3564",
   "metadata": {},
   "outputs": [
    {
     "data": {
      "text/plain": [
       "3.3333333333333335"
      ]
     },
     "execution_count": 3,
     "metadata": {},
     "output_type": "execute_result"
    }
   ],
   "source": [
    "#This will convert 200 minutes to hours by dividing by 60\n",
    "\n",
    "(200/60)"
   ]
  },
  {
   "cell_type": "markdown",
   "id": "c1588212-17f7-4ae5-9617-917f88e85db7",
   "metadata": {},
   "source": [
    "**Objectives:**\n",
    "\n",
    "  - Listing popular Data Science languages\n",
    "- Listing popular Data Science libraries\n",
    " - Making a table via markdown cell\n",
    "- Showing how code cells can perform simple arithmetic\n",
    "    "
   ]
  },
  {
   "cell_type": "markdown",
   "id": "62671971-a0cd-469a-bdb0-dbe1ec13f066",
   "metadata": {},
   "source": [
    "## Author\n",
    "Yale Vervloet"
   ]
  },
  {
   "cell_type": "code",
   "execution_count": null,
   "id": "884de531-a0d9-4824-b232-dbb22d3e2fee",
   "metadata": {},
   "outputs": [],
   "source": []
  }
 ],
 "metadata": {
  "kernelspec": {
   "display_name": "anaconda-panel-2023.05-py310",
   "language": "python",
   "name": "conda-env-anaconda-panel-2023.05-py310-py"
  },
  "language_info": {
   "codemirror_mode": {
    "name": "ipython",
    "version": 3
   },
   "file_extension": ".py",
   "mimetype": "text/x-python",
   "name": "python",
   "nbconvert_exporter": "python",
   "pygments_lexer": "ipython3",
   "version": "3.11.3"
  }
 },
 "nbformat": 4,
 "nbformat_minor": 5
}
